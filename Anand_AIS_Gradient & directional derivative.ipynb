{
 "cells": [
  {
   "cell_type": "code",
   "execution_count": 15,
   "metadata": {},
   "outputs": [
    {
     "name": "stdout",
     "output_type": "stream",
     "text": [
      "Enter value of x 10\n",
      "Enter value of y 20\n",
      "Enter coordinate x of vector10\n",
      "Enter coordinate y of vector20\n",
      "[0.4472136  0.89442719]\n",
      "Coordinates of X & Y [-1999.99999999999, -10999.999999999976]\n",
      "-10733.126291998964\n"
     ]
    }
   ],
   "source": [
    "import numdifftools as nd\n",
    "import numpy as np\n",
    "\n",
    "x = float(input(\"Enter value of x \"))\n",
    "y = float(input(\"Enter value of y \"))\n",
    "\n",
    "def directderivative(x,y):\n",
    "    result=list()\n",
    "    z = lambda x: x[0]**3 * x[1] - x[0] * x[1]**3\n",
    "    a = nd.Gradient(z)\n",
    "    xX,yY=a([x, y])\n",
    "    result.append(xX)\n",
    "    result.append(yY)\n",
    "    return result\n",
    "    \n",
    "\n",
    "vec1 = float(input(\"Enter coordinate x of vector\"))\n",
    "vec2 = float(input(\"Enter coordinate y of vector\"))\n",
    "\n",
    "vector = np.array([vec1,vec2])\n",
    "unit_vector = vector / np.linalg.norm(vector)\n",
    "\n",
    "print(unit_vector)\n",
    "print(\"Coordinates of X & Y\",directderivative(x,y))\n",
    "print(np.dot(unit_vector,directderivative(x,y)))"
   ]
  },
  {
   "cell_type": "code",
   "execution_count": null,
   "metadata": {},
   "outputs": [],
   "source": []
  }
 ],
 "metadata": {
  "kernelspec": {
   "display_name": "Python 3",
   "language": "python",
   "name": "python3"
  },
  "language_info": {
   "codemirror_mode": {
    "name": "ipython",
    "version": 3
   },
   "file_extension": ".py",
   "mimetype": "text/x-python",
   "name": "python",
   "nbconvert_exporter": "python",
   "pygments_lexer": "ipython3",
   "version": "3.7.4"
  }
 },
 "nbformat": 4,
 "nbformat_minor": 2
}
